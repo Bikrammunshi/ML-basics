{
 "cells": [
  {
   "cell_type": "code",
   "execution_count": 1,
   "id": "199e326f",
   "metadata": {},
   "outputs": [],
   "source": [
    "import cv2"
   ]
  },
  {
   "cell_type": "code",
   "execution_count": 2,
   "id": "06b86f82",
   "metadata": {},
   "outputs": [],
   "source": [
    "video = cv2.VideoCapture(0)"
   ]
  },
  {
   "cell_type": "code",
   "execution_count": 3,
   "id": "8f056339",
   "metadata": {},
   "outputs": [],
   "source": [
    "def change_resolution():\n",
    "    video.set(3,1920)\n",
    "    video.set(4,1080)\n",
    "change_resolution()"
   ]
  },
  {
   "cell_type": "code",
   "execution_count": 4,
   "id": "9203ba2c",
   "metadata": {},
   "outputs": [],
   "source": [
    "facedetect=cv2.CascadeClassifier(cv2.data.haarcascades+'haarcascade_frontalface_default.xml')"
   ]
  },
  {
   "cell_type": "code",
   "execution_count": 5,
   "id": "1e44d78b",
   "metadata": {},
   "outputs": [],
   "source": [
    "while True:\n",
    "    ret, frame=video.read()\n",
    "    GR_img = cv2.cvtColor(frame,cv2.COLOR_BGR2GRAY)\n",
    "    faces=facedetect.detectMultiScale(GR_img, scaleFactor=1.1)\n",
    "    for x,y,w,h in faces:\n",
    "        cv2.rectangle(frame, (x,y), (x+w,y+h),(154,250,0),2)\n",
    "    \n",
    "    \n",
    "    \n",
    "    cv2.imshow(\"Frames\",frame)\n",
    "    if(cv2.waitKey(1)==ord('x')):\n",
    "        break\n",
    "        \n",
    "video.release()\n",
    "cv2.destroyAllWindows()"
   ]
  },
  {
   "cell_type": "code",
   "execution_count": null,
   "id": "58352a5b",
   "metadata": {},
   "outputs": [],
   "source": []
  }
 ],
 "metadata": {
  "kernelspec": {
   "display_name": "Python 3 (ipykernel)",
   "language": "python",
   "name": "python3"
  },
  "language_info": {
   "codemirror_mode": {
    "name": "ipython",
    "version": 3
   },
   "file_extension": ".py",
   "mimetype": "text/x-python",
   "name": "python",
   "nbconvert_exporter": "python",
   "pygments_lexer": "ipython3",
   "version": "3.9.13"
  }
 },
 "nbformat": 4,
 "nbformat_minor": 5
}
