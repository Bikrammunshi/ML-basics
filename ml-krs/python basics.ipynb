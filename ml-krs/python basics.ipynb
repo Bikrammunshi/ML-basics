{
 "cells": [
  {
   "cell_type": "code",
   "execution_count": 1,
   "id": "30e8985c",
   "metadata": {},
   "outputs": [
    {
     "name": "stdout",
     "output_type": "stream",
     "text": [
      "2 4\n"
     ]
    }
   ],
   "source": [
    "def fib(n):\n",
    "    if(n<1):\n",
    "        return -1\n",
    "    elif(n==1):\n",
    "        return (0)\n",
    "    elif(n==2):\n",
    "        return 1\n",
    "    return(fib(n-1)+fib(n-2))\n",
    "\n",
    "def fibsum(n):\n",
    "    if(n==0):\n",
    "        return 0\n",
    "    return(fib(n)+fibsum(n-1))\n",
    "\n",
    "\n",
    "print(fib(4),fibsum(4))"
   ]
  },
  {
   "cell_type": "code",
   "execution_count": 30,
   "id": "9a7800d9",
   "metadata": {},
   "outputs": [
    {
     "name": "stdout",
     "output_type": "stream",
     "text": [
      "[[0, 0, 0, 0], [0, 0, 0, 0], [0, 0, 0, 0]]\n",
      "[[307, 414, 245, 64], [307, 414, 245, 64], [307, 414, 245, 64]]\n",
      "[[114 160  60  27]\n",
      " [ 74  97  73  14]\n",
      " [119 157 112  23]]\n"
     ]
    }
   ],
   "source": [
    "import numpy as np\n",
    "def pro(a1,a2):\n",
    "    a3=[[0]*len(a2[0])]*len(a1)\n",
    "    \n",
    "    print(a3)\n",
    "    for i in range (len(a1)):\n",
    "        for j in range(len(a2[0])):\n",
    "            for k in range(len(a2)):\n",
    "                a3[i][j]+= (a1[i][k] * a2[k][j])\n",
    "        \n",
    "    print(a3)\n",
    "a1=[[12,7,3],[4,5,6],[7,8,9]]\n",
    "a2=[[5,8,1,2],[6,7,3,0],[4,5,9,1]]\n",
    "pro(a1,a2)\n",
    "print(np.dot(a1,a2))"
   ]
  }
 ],
 "metadata": {
  "kernelspec": {
   "display_name": "Python 3 (ipykernel)",
   "language": "python",
   "name": "python3"
  },
  "language_info": {
   "codemirror_mode": {
    "name": "ipython",
    "version": 3
   },
   "file_extension": ".py",
   "mimetype": "text/x-python",
   "name": "python",
   "nbconvert_exporter": "python",
   "pygments_lexer": "ipython3",
   "version": "3.9.13"
  }
 },
 "nbformat": 4,
 "nbformat_minor": 5
}
